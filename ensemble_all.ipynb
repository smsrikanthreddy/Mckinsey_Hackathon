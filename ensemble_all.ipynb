{
 "cells": [
  {
   "cell_type": "code",
   "execution_count": 6,
   "metadata": {
    "collapsed": true
   },
   "outputs": [],
   "source": [
    "import pandas as pd\n",
    "import numpy as np\n",
    "from scipy.stats import rankdata\n",
    "import os\n",
    "\n",
    "DATAPATH = 'F:/srikanth/data/k_data/AV/Mckinsay_Hackathon'\n"
   ]
  },
  {
   "cell_type": "code",
   "execution_count": 7,
   "metadata": {
    "collapsed": true
   },
   "outputs": [],
   "source": [
    "xgb_pred = pd.read_csv(os.path.join(DATAPATH,\"results\",\"XGB_Ens.csv\")) #XGB\n",
    "ftrl_pred = pd.read_csv(os.path.join(DATAPATH,\"results\",\"ftrl_final.csv\")) #FTRL\n",
    "xgb_ftrl_pred = pd.read_csv(os.path.join(DATAPATH,\"results\",\"xgboost_ftrl_results.csv\"))\n",
    "rf_pred = pd.read_csv(os.path.join(DATAPATH,\"results\",\"RF_Ens.csv\")) #RF"
   ]
  },
  {
   "cell_type": "code",
   "execution_count": 8,
   "metadata": {
    "collapsed": false
   },
   "outputs": [
    {
     "data": {
      "text/html": [
       "<div>\n",
       "<table border=\"1\" class=\"dataframe\">\n",
       "  <thead>\n",
       "    <tr style=\"text-align: right;\">\n",
       "      <th></th>\n",
       "      <th>ID</th>\n",
       "      <th>XGB</th>\n",
       "      <th>RF</th>\n",
       "      <th>FTRL</th>\n",
       "      <th>XGB_FTRL</th>\n",
       "      <th>XGB1_Rank</th>\n",
       "      <th>RF_Rank</th>\n",
       "      <th>FTRL_Rank</th>\n",
       "      <th>XGB_FTRL_Rank</th>\n",
       "    </tr>\n",
       "  </thead>\n",
       "  <tbody>\n",
       "    <tr>\n",
       "      <th>0</th>\n",
       "      <td>APPA70109647212</td>\n",
       "      <td>0.014369</td>\n",
       "      <td>0.008033</td>\n",
       "      <td>0.006806</td>\n",
       "      <td>0.006806</td>\n",
       "      <td>21860</td>\n",
       "      <td>13786</td>\n",
       "      <td>16134</td>\n",
       "      <td>16134</td>\n",
       "    </tr>\n",
       "    <tr>\n",
       "      <th>1</th>\n",
       "      <td>APPB10687939341</td>\n",
       "      <td>0.014416</td>\n",
       "      <td>0.034874</td>\n",
       "      <td>0.035597</td>\n",
       "      <td>0.035597</td>\n",
       "      <td>21882</td>\n",
       "      <td>26959</td>\n",
       "      <td>26524</td>\n",
       "      <td>26524</td>\n",
       "    </tr>\n",
       "    <tr>\n",
       "      <th>2</th>\n",
       "      <td>APPC80449411414</td>\n",
       "      <td>0.000259</td>\n",
       "      <td>0.003272</td>\n",
       "      <td>0.001884</td>\n",
       "      <td>0.001884</td>\n",
       "      <td>940</td>\n",
       "      <td>5890</td>\n",
       "      <td>7221</td>\n",
       "      <td>7221</td>\n",
       "    </tr>\n",
       "    <tr>\n",
       "      <th>3</th>\n",
       "      <td>APPD30665094501</td>\n",
       "      <td>0.000259</td>\n",
       "      <td>0.002307</td>\n",
       "      <td>0.002422</td>\n",
       "      <td>0.002422</td>\n",
       "      <td>912</td>\n",
       "      <td>3638</td>\n",
       "      <td>8849</td>\n",
       "      <td>8849</td>\n",
       "    </tr>\n",
       "    <tr>\n",
       "      <th>4</th>\n",
       "      <td>APPE80379821637</td>\n",
       "      <td>0.002659</td>\n",
       "      <td>0.008204</td>\n",
       "      <td>0.003089</td>\n",
       "      <td>0.003089</td>\n",
       "      <td>11578</td>\n",
       "      <td>13984</td>\n",
       "      <td>10522</td>\n",
       "      <td>10522</td>\n",
       "    </tr>\n",
       "  </tbody>\n",
       "</table>\n",
       "</div>"
      ],
      "text/plain": [
       "                ID       XGB        RF      FTRL  XGB_FTRL  XGB1_Rank  \\\n",
       "0  APPA70109647212  0.014369  0.008033  0.006806  0.006806      21860   \n",
       "1  APPB10687939341  0.014416  0.034874  0.035597  0.035597      21882   \n",
       "2  APPC80449411414  0.000259  0.003272  0.001884  0.001884        940   \n",
       "3  APPD30665094501  0.000259  0.002307  0.002422  0.002422        912   \n",
       "4  APPE80379821637  0.002659  0.008204  0.003089  0.003089      11578   \n",
       "\n",
       "   RF_Rank  FTRL_Rank  XGB_FTRL_Rank  \n",
       "0    13786      16134          16134  \n",
       "1    26959      26524          26524  \n",
       "2     5890       7221           7221  \n",
       "3     3638       8849           8849  \n",
       "4    13984      10522          10522  "
      ]
     },
     "execution_count": 8,
     "metadata": {},
     "output_type": "execute_result"
    }
   ],
   "source": [
    "ens = xgb_pred.copy()\n",
    "ens.rename(columns={'Approved':'XGB'}, inplace = True)\n",
    "ens['RF'] = rf_pred['Approved']\n",
    "ens['FTRL'] = ftrl_pred['Approved']\n",
    "ens['XGB_FTRL'] = ftrl_pred['Approved']\n",
    "\n",
    "ens['XGB1_Rank'] = rankdata(ens['XGB'], method='min')\n",
    "ens['RF_Rank'] = rankdata(ens['RF'], method='min')\n",
    "ens['FTRL_Rank'] = rankdata(ens['FTRL'], method='min')\n",
    "ens['XGB_FTRL_Rank'] = rankdata(ens['XGB_FTRL'], method='min')\n",
    "ens.head()"
   ]
  },
  {
   "cell_type": "code",
   "execution_count": 9,
   "metadata": {
    "collapsed": false
   },
   "outputs": [],
   "source": [
    "\n",
    "ens['Final'] = (0.75*ens['XGB'] + 0.25*ens['RF']) * 0.75 + 0.25 * (0.5* ens['FTRL']+0.5*ens['XGB_FTRL'])\n"
   ]
  },
  {
   "cell_type": "code",
   "execution_count": null,
   "metadata": {
    "collapsed": true
   },
   "outputs": [],
   "source": [
    "ens = ens[['ID', 'Final']]\n",
    "ens.rename(columns={'Final':'Approved'}, inplace = True)\n",
    "ens.sort_index(inplace = True)\n",
    "ens.head()\n",
    "\n",
    "ens.to_csv(os.path.join(DATAPATH,\"results\",\"FinalSolution.csv\"), index = False)"
   ]
  }
 ],
 "metadata": {
  "anaconda-cloud": {},
  "kernelspec": {
   "display_name": "Python [default]",
   "language": "python",
   "name": "python3"
  },
  "language_info": {
   "codemirror_mode": {
    "name": "ipython",
    "version": 3
   },
   "file_extension": ".py",
   "mimetype": "text/x-python",
   "name": "python",
   "nbconvert_exporter": "python",
   "pygments_lexer": "ipython3",
   "version": "3.5.2"
  }
 },
 "nbformat": 4,
 "nbformat_minor": 1
}
